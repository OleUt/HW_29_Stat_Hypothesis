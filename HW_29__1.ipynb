{
 "cells": [
  {
   "cell_type": "code",
   "execution_count": 1,
   "id": "a2ec2223",
   "metadata": {},
   "outputs": [
    {
     "name": "stdout",
     "output_type": "stream",
     "text": [
      "interval midpoints: [12.0, 36.0, 60.0, 84.0, 108.0, 132.0, 156.0, 180.0, 204.0]\n",
      "mean = 114.72\n",
      "std dev = 38.497834553467065\n"
     ]
    }
   ],
   "source": [
    "import math\n",
    "import scipy.stats\n",
    "\n",
    "# interval_limits and frequencies\n",
    "lim = [0, 24, 48, 72, 96, 120, 144, 168, 192, 216]\n",
    "freq = [1, 2, 4, 6, 12, 16, 6, 2, 1]\n",
    "n = 50\n",
    "k = len(freq)\n",
    "\n",
    "# H0: the distribution is normal\n",
    "\n",
    "# interval midpoints\n",
    "mid = []\n",
    "for i in range(k):\n",
    "    mid.append(lim[i] + (lim[i+1] - lim[i])/2)\n",
    "print('interval midpoints:', mid)\n",
    "\n",
    "# mean\n",
    "mean = 0\n",
    "for i in range(k):\n",
    "    mean += mid[i] * freq[i]\n",
    "mean = mean/n\n",
    "print('mean =', mean)\n",
    "\n",
    "# std dev\n",
    "sd = 0\n",
    "for i in range(k):\n",
    "    sd += freq[i] * (mid[i] - mean)**2\n",
    "sd = math.sqrt(sd/(n-1))\n",
    "print('std dev =', sd)"
   ]
  },
  {
   "cell_type": "code",
   "execution_count": 2,
   "id": "cff36648",
   "metadata": {},
   "outputs": [
    {
     "name": "stdout",
     "output_type": "stream",
     "text": [
      "expected freq normal distribution:\n",
      " [0.38912266357236935, 1.6158098758370625, 4.601484846761594, 8.99104995065535, 12.057654388742439, 11.099830263273851, 7.013803423114467, 3.0414453809863797, 0.9047533809281194]\n"
     ]
    }
   ],
   "source": [
    "# normal distribution frequencies \n",
    "\n",
    "# normalized interval limits + Laplace function\n",
    "f = []\n",
    "for i in range(k + 1):\n",
    "    z_lim = (lim[i] - mean) / sd\n",
    "    f.append(scipy.stats.norm.cdf(z_lim) - 0.5)\n",
    "\n",
    "# expected freq normal distribution\n",
    "ex_freq = []\n",
    "for i in range(k):\n",
    "    p = (f[i+1]-f[i])*n\n",
    "    ex_freq.append(p)\n",
    "print('expected freq normal distribution:\\n', ex_freq)"
   ]
  },
  {
   "cell_type": "code",
   "execution_count": 3,
   "id": "e13102dd",
   "metadata": {},
   "outputs": [
    {
     "name": "stdout",
     "output_type": "stream",
     "text": [
      "H0: the distribution is normal\n",
      "chi2 fact = 4.800707490369594\n",
      "chi2 table = 16.811893829770927 (a=0.01, df = k-2-1)\n",
      "H0 accepted, distribution is normal\n"
     ]
    }
   ],
   "source": [
    "# chi-square test for H0: the distribution is normal (a=0.01, df = k-2-1)\n",
    "\n",
    "print('H0: the distribution is normal')\n",
    "\n",
    "# chi-square\n",
    "chi2 = 0\n",
    "for i in range(k):\n",
    "    chi2 += (freq[i] - ex_freq[i]) **2 / ex_freq[i]\n",
    "print('chi2 fact =', chi2)\n",
    "\n",
    "chi2_tabl = scipy.stats.chi2.ppf((1-0.01), (k-2-1))\n",
    "print('chi2 table =', chi2_tabl, '(a=0.01, df = k-2-1)')\n",
    "\n",
    "if chi2 >= chi2_tabl:\n",
    "    print('H0 rejected, distribution is not normal')\n",
    "else:\n",
    "    print('H0 accepted, distribution is normal')"
   ]
  }
 ],
 "metadata": {
  "kernelspec": {
   "display_name": "Python 3 (ipykernel)",
   "language": "python",
   "name": "python3"
  },
  "language_info": {
   "codemirror_mode": {
    "name": "ipython",
    "version": 3
   },
   "file_extension": ".py",
   "mimetype": "text/x-python",
   "name": "python",
   "nbconvert_exporter": "python",
   "pygments_lexer": "ipython3",
   "version": "3.11.1"
  }
 },
 "nbformat": 4,
 "nbformat_minor": 5
}
